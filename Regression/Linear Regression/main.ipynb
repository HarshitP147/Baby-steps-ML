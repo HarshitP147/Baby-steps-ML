{
 "cells": [
  {
   "cell_type": "code",
   "execution_count": null,
   "metadata": {},
   "outputs": [],
   "source": [
    "import pandas as pd\n",
    "\n",
    "# insurance.csv is the original ||file from which the data is read\n",
    "medical_ins_df = pd.read_csv('./medical.csv')\n",
    "medical_ins_df.info()         # we get the datatype of each of the column\n",
    "medical_ins_df.describe()     # we get numerical analysis of the\n"
   ]
  },
  {
   "cell_type": "code",
   "execution_count": null,
   "metadata": {},
   "outputs": [],
   "source": [
    "# importing required libraries for plotting\n",
    "import matplotlib\n",
    "import matplotlib.pyplot as plt\n",
    "import plotly.express as px\n",
    "import seaborn as sns\n",
    "%matplotlib inline\n",
    "\n",
    "\n",
    "# setting basic graph colors and properties\n",
    "matplotlib.rcParams['font.size'] = 14\n",
    "matplotlib.rcParams['figure.figsize'] = (10,6)\n",
    "matplotlib.rcParams['figure.facecolor'] = '#000000'\n"
   ]
  },
  {
   "cell_type": "code",
   "execution_count": null,
   "metadata": {},
   "outputs": [],
   "source": [
    "# giving the complete analysis of a column in the dataset along with it's graph\n",
    "\n",
    "age_fig = px.histogram(medical_ins_df,x='age',marginal='box',nbins=47,title='Distribution of age')\n",
    "age_fig.update_layout(bargap=0.1)\n",
    "age_fig.show()\n",
    "\n",
    "medical_ins_df.age.describe()"
   ]
  },
  {
   "cell_type": "code",
   "execution_count": null,
   "metadata": {},
   "outputs": [],
   "source": [
    "bmi_fig = px.histogram(medical_ins_df,x='bmi',marginal='box',color_discrete_sequence=['red'],title='Distribution of BMI')\n",
    "bmi_fig.update_layout(bargap=0.1)\n",
    "bmi_fig.show()\n",
    "\n",
    "medical_ins_df.bmi.describe()"
   ]
  },
  {
   "cell_type": "code",
   "execution_count": null,
   "metadata": {},
   "outputs": [],
   "source": [
    "# nbins for children = 6\n",
    "children_fig = px.histogram(medical_ins_df,x='children',marginal='box',color_discrete_sequence=['black'],nbins=6,title='Number of children')\n",
    "children_fig.update_layout(bargap=0.1)\n",
    "children_fig.show()\n",
    "\n",
    "medical_ins_df.children.describe()"
   ]
  },
  {
   "cell_type": "code",
   "execution_count": null,
   "metadata": {},
   "outputs": [],
   "source": [
    "charges_fig = px.histogram(medical_ins_df,x='charges',marginal='box',color_discrete_sequence=['orange'],title='Charges paid')\n",
    "charges_fig.update_layout(bargap=0.1)\n",
    "charges_fig.show()\n",
    "\n",
    "medical_ins_df.charges.describe()"
   ]
  },
  {
   "cell_type": "code",
   "execution_count": null,
   "metadata": {},
   "outputs": [],
   "source": [
    "# analysing string type columns\n",
    "medical_ins_df.smoker.value_counts()    # get the equivalent integer number defined by this function"
   ]
  },
  {
   "cell_type": "code",
   "execution_count": null,
   "metadata": {},
   "outputs": [],
   "source": [
    "px.histogram(medical_ins_df,x='smoker',color='sex',title='Smoker')"
   ]
  },
  {
   "cell_type": "code",
   "execution_count": null,
   "metadata": {},
   "outputs": [],
   "source": [
    "# age and charges relation using scatterplot through charges\n",
    "\n",
    "age_charge_rel = px.scatter(medical_ins_df,x='age',y='charges',color='smoker',opacity=0.8,hover_data=['sex'],title='Age vs Charges relation')\n",
    "age_charge_rel.update_traces(marker_size=5)\n",
    "age_charge_rel.show()"
   ]
  },
  {
   "cell_type": "code",
   "execution_count": null,
   "metadata": {},
   "outputs": [],
   "source": [
    "bmi_charge_rel = px.scatter(medical_ins_df,x='bmi',y='charges',color='smoker',hover_data='sex')\n",
    "bmi_charge_rel.update_traces(marker_size=5)\n",
    "bmi_charge_rel.show()"
   ]
  },
  {
   "cell_type": "code",
   "execution_count": null,
   "metadata": {},
   "outputs": [],
   "source": [
    "# # for any further analysis, we have to convert the strings into numerical datatypes\n",
    "\n",
    "# smoker_val = {'yes':1,'no':0}   # assign them from 0\n",
    "# medical_ins_df['smoker'] = medical_ins_df['smoker'].map(smoker_val)\n",
    "\n",
    "# medical_ins_df['sex'] = medical_ins_df.sex.map({\n",
    "#     'female':1,\n",
    "#     'male':0\n",
    "# })\n",
    "\n",
    "# region_val = {\n",
    "#     'southwest':0,\n",
    "#     'southeast':1,\n",
    "#     'northwest':2,\n",
    "#     'northeast':3\n",
    "# }\n",
    "# medical_ins_df.region = medical_ins_df.region.map(region_val)\n",
    "\n",
    "# # medical_ins_df.charges.corr(medical_ins_df.age)"
   ]
  },
  {
   "cell_type": "code",
   "execution_count": null,
   "metadata": {},
   "outputs": [],
   "source": [
    "# correlation coefficients between two numerical datatypes\n",
    "medical_ins_df.charges.corr(medical_ins_df.age)\n",
    "medical_ins_df.charges.corr(medical_ins_df.bmi)\n"
   ]
  },
  {
   "cell_type": "code",
   "execution_count": null,
   "metadata": {},
   "outputs": [],
   "source": [
    "# import numpy as np\n",
    "\n",
    "# sns.heatmap(medical_ins_df.corr(), cmap='Reds', annot=True)\n",
    "# plt.title('Correlation Matrix')\n",
    "\n",
    "# medical_ins_df.corr()"
   ]
  },
  {
   "cell_type": "code",
   "execution_count": null,
   "metadata": {},
   "outputs": [],
   "source": [
    "# linear regression\n",
    "non_smoker_df = medical_ins_df[medical_ins_df.smoker=='no']\n",
    "\n",
    "fig = px.scatter(non_smoker_df,x='age',y='charges',title='Age vs Charges');\n",
    "fig.show()"
   ]
  },
  {
   "cell_type": "code",
   "execution_count": null,
   "metadata": {},
   "outputs": [],
   "source": [
    "# charges = w*(x axis age  + b )  --> intercept\n",
    "# y = w* ( x + b )   general formula for linear regression model\n",
    "\n",
    "def estimate_charges(age,w,b):\n",
    "    # Helper function\n",
    "    return w*age + b\n",
    "\n",
    "w=50\n",
    "b=100\n",
    "\n",
    "ages = non_smoker_df.age    # get all the ages of non smokers\n",
    "\n",
    "estimated_charges = estimate_charges(ages,w,b)\n",
    "\n",
    "line_fig = px.line(non_smoker_df,x=ages,y=estimated_charges,title=\"Age vs Estimated Charges\");\n",
    "line_fig.show()"
   ]
  },
  {
   "cell_type": "code",
   "execution_count": null,
   "metadata": {},
   "outputs": [],
   "source": [
    "# checking if the model fits with the current data\n",
    "targets = non_smoker_df.charges\n",
    "\n",
    "# plt.plot(ages, estimated_charges, 'r', alpha=0.9);\n",
    "# plt.scatter(ages, targets, s=8,alpha=0.8);\n",
    "# plt.xlabel('Age');\n",
    "# plt.ylabel('Charges')\n",
    "# plt.legend(['Estimate', 'Actual']);\n",
    "\n",
    "# target_rel_fig = px.scatter(non_smoker_df,x=ages,y=targets,opacity=0.5,title='Distribution of ages and target charges')\n",
    "# target_rel_fig.update(non_smoker_df,x=ages,y=estimated_charges)\n",
    "# target_rel_fig.show()\n",
    "\n",
    "target = non_smoker_df.charges\n",
    "\n",
    "plt.plot(ages, estimated_charges, 'r', alpha=0.9);\n",
    "plt.scatter(ages, target, s=8,alpha=0.8);\n",
    "plt.xlabel('Age');\n",
    "plt.ylabel('Charges')\n",
    "plt.legend(['Estimate', 'Actual']);\n"
   ]
  },
  {
   "cell_type": "code",
   "execution_count": null,
   "metadata": {},
   "outputs": [],
   "source": [
    "def try_parameter(w,b):\n",
    "    ages = non_smoker_df.age\n",
    "\n",
    "    target = non_smoker_df.charges\n",
    "\n",
    "    estimated_charges = estimate_charges(ages,w,b)\n",
    "\n",
    "    plt.plot(ages,estimated_charges,'r',alpha=0.9);\n",
    "    plt.scatter(ages,target,alpha=0.8);\n",
    "    plt.xlabel('Ages');\n",
    "    plt.ylabel('Charges');\n",
    "    plt.legend(['Estimate','Actual']);\n",
    "\n",
    "try_parameter(400,5000);\n"
   ]
  },
  {
   "cell_type": "code",
   "execution_count": null,
   "metadata": {},
   "outputs": [],
   "source": [
    "import numpy as np\n",
    "\n",
    "def rmse(targets,predictions):\n",
    "    return np.sqrt(np.mean(np.square(targets-predictions)));\n",
    "\n",
    "w=1500\n",
    "b=500\n"
   ]
  }
 ],
 "metadata": {
  "kernelspec": {
   "display_name": ".venv",
   "language": "python",
   "name": "python3"
  },
  "language_info": {
   "codemirror_mode": {
    "name": "ipython",
    "version": 3
   },
   "file_extension": ".py",
   "mimetype": "text/x-python",
   "name": "python",
   "nbconvert_exporter": "python",
   "pygments_lexer": "ipython3",
   "version": "3.11.0"
  }
 },
 "nbformat": 4,
 "nbformat_minor": 4
}
